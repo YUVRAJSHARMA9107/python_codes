{
 "cells": [
  {
   "cell_type": "code",
   "execution_count": null,
   "metadata": {},
   "outputs": [
    {
     "name": "stdout",
     "output_type": "stream",
     "text": [
      "Young Adult\n"
     ]
    }
   ],
   "source": [
    "#ques 1 ipynb\n",
    "a=int(input(\"Enter the Age:\"))\n",
    "if (a>=0 and a<=12):\n",
    "    print(\"child\")\n",
    "elif(a>=13 and a<=19):\n",
    "    print(\"Teenager\")\n",
    "elif(a>=20 and a<=35):\n",
    "    print(\"Young Adult\")\n",
    "elif(a>=36 and a<=60):\n",
    "    print(\"Adult\")\n",
    "else:\n",
    "    print(\"Senior Citizen\")\n"
   ]
  },
  {
   "cell_type": "code",
   "execution_count": 2,
   "metadata": {},
   "outputs": [
    {
     "name": "stdout",
     "output_type": "stream",
     "text": [
      "child\n"
     ]
    }
   ],
   "source": [
    "#ques 2\n",
    "a=int(input(\"Enter the Age:\"))\n",
    "if (a>=0 and a<=12):\n",
    "    print(\"child\")\n",
    "elif(a>=13 and a<=19):\n",
    "    print(\"Teenager\")\n",
    "elif(a>=20 and a<=35):\n",
    "    print(\"Young Adult\")\n",
    "elif(a>=36 and a<=60):\n",
    "    print(\"Adult\")\n",
    "else:\n",
    "    print(\"Senior Citizen\")\n"
   ]
  },
  {
   "cell_type": "code",
   "execution_count": 5,
   "metadata": {},
   "outputs": [
    {
     "name": "stdout",
     "output_type": "stream",
     "text": [
      "35  is divisible by both  5 and 7  \n"
     ]
    }
   ],
   "source": [
    "#ques 3\n",
    "n=int (input (\"Enter the number: \"))\n",
    "if (n%5==0 and n%7==0):\n",
    "    print (n,\" is divisible by both  5 and 7  \")\n",
    "elif(n%5==0):\n",
    "    print(\"Number is divisible by 5 only\")\n",
    "elif(n%7==0):\n",
    "    print(n,\" is divisible by 7 only\")\n",
    "else:\n",
    "    print(n,\" is not divisible 5 or 7\")"
   ]
  },
  {
   "cell_type": "code",
   "execution_count": 1,
   "metadata": {},
   "outputs": [
    {
     "name": "stdout",
     "output_type": "stream",
     "text": [
      "A\n"
     ]
    }
   ],
   "source": [
    "#ques 4\n",
    "a=int(input(\"Enter percentage:\"))\n",
    "if (a>=90 and a<=100):\n",
    "    print(\"A\")\n",
    "elif(a>=80 and a<=89):\n",
    "    print(\"B\")\n",
    "elif(a>=70 and a<=79):\n",
    "    print(\"C\")\n",
    "elif(a>=60 and a<=69):\n",
    "    print(\"D\")\n",
    "else:\n",
    "    print(\"Fail\")\n"
   ]
  }
 ],
 "metadata": {
  "kernelspec": {
   "display_name": "Python 3",
   "language": "python",
   "name": "python3"
  },
  "language_info": {
   "codemirror_mode": {
    "name": "ipython",
    "version": 3
   },
   "file_extension": ".py",
   "mimetype": "text/x-python",
   "name": "python",
   "nbconvert_exporter": "python",
   "pygments_lexer": "ipython3",
   "version": "3.10.5"
  }
 },
 "nbformat": 4,
 "nbformat_minor": 2
}
