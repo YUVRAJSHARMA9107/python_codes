{
 "cells": [
  {
   "cell_type": "code",
   "execution_count": 3,
   "metadata": {},
   "outputs": [
    {
     "name": "stdout",
     "output_type": "stream",
     "text": [
      "195\n",
      "208\n",
      "221\n",
      "234\n",
      "247\n",
      "260\n",
      "273\n",
      "286\n",
      "299\n",
      "312\n",
      "325\n",
      "338\n",
      "351\n",
      "364\n",
      "377\n",
      "390\n",
      "403\n",
      "416\n",
      "429\n",
      "442\n",
      "455\n",
      "468\n",
      "481\n",
      "494\n",
      "507\n",
      "520\n",
      "533\n",
      "546\n"
     ]
    }
   ],
   "source": [
    "a=195\n",
    "\n",
    "while (a<=555):\n",
    "    print(a)\n",
    "    a=a+13\n"
   ]
  },
  {
   "cell_type": "code",
   "execution_count": 6,
   "metadata": {},
   "outputs": [
    {
     "name": "stdout",
     "output_type": "stream",
     "text": [
      "11\n",
      "22\n",
      "33\n",
      "44\n",
      "55\n",
      "66\n"
     ]
    }
   ],
   "source": [
    "a=11\n",
    "n=int(input(\"enter the number \"))\n",
    "for i in range(n):\n",
    "    print(a*(i+1))\n"
   ]
  },
  {
   "cell_type": "code",
   "execution_count": 10,
   "metadata": {},
   "outputs": [
    {
     "name": "stdout",
     "output_type": "stream",
     "text": [
      "reversed  87654321\n",
      "not pallindrome\n"
     ]
    }
   ],
   "source": [
    "a=int(input(\"enter number \"))\n",
    "b=str(a)\n",
    "print(\"reversed \",b[::-1])\n",
    "if b==b[::-1]:\n",
    "    print(\"Pallindrome\")\n",
    "else:\n",
    "    print(\"not pallindrome\")"
   ]
  },
  {
   "cell_type": "code",
   "execution_count": 13,
   "metadata": {},
   "outputs": [
    {
     "name": "stdout",
     "output_type": "stream",
     "text": [
      "2\n",
      "5\n",
      "8\n",
      "11\n",
      "14\n",
      "17\n",
      "20\n",
      "23\n",
      "26\n",
      "29\n"
     ]
    }
   ],
   "source": [
    "n=int(input(\"enter number \"))\n",
    "i=2\n",
    "ct=0\n",
    "while (ct<n):\n",
    "    print(i)\n",
    "    i=i+3\n",
    "    ct=ct+1\n"
   ]
  },
  {
   "cell_type": "code",
   "execution_count": 21,
   "metadata": {},
   "outputs": [
    {
     "name": "stdout",
     "output_type": "stream",
     "text": [
      "33\n",
      "100\n",
      "50\n",
      "25\n",
      "76\n",
      "38\n",
      "19\n",
      "58\n",
      "29\n",
      "88\n",
      "44\n",
      "22\n",
      "11\n",
      "34\n",
      "17\n",
      "52\n",
      "26\n",
      "13\n",
      "40\n",
      "20\n",
      "10\n",
      "5\n",
      "16\n",
      "8\n",
      "4\n",
      "2\n",
      "1\n",
      "count 26\n"
     ]
    }
   ],
   "source": [
    "n=int(input(\"enter the number\"))\n",
    "count=0\n",
    "\n",
    "while n!=1:\n",
    "    print (n)\n",
    "    if n%2==0:\n",
    "        n=n//2\n",
    "    else:\n",
    "        n=(n*3)+1\n",
    "    count=count+1\n",
    "print(\"1\")\n",
    "\n",
    "print(\"count\", count)"
   ]
  }
 ],
 "metadata": {
  "kernelspec": {
   "display_name": "Python 3",
   "language": "python",
   "name": "python3"
  },
  "language_info": {
   "codemirror_mode": {
    "name": "ipython",
    "version": 3
   },
   "file_extension": ".py",
   "mimetype": "text/x-python",
   "name": "python",
   "nbconvert_exporter": "python",
   "pygments_lexer": "ipython3",
   "version": "3.13.2"
  }
 },
 "nbformat": 4,
 "nbformat_minor": 2
}
