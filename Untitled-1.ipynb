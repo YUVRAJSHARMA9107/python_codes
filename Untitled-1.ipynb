{
 "cells": [
  {
   "cell_type": "code",
   "execution_count": 1,
   "metadata": {},
   "outputs": [
    {
     "name": "stdout",
     "output_type": "stream",
     "text": [
      "False\n",
      "True\n",
      "True\n"
     ]
    }
   ],
   "source": [
    "str1=\"hello\"\n",
    "str2=\"world\"\n",
    "str3=\"yuvraj\"\n",
    "\n",
    "print(\"i\"in str1)\n",
    "print(\"i\"not in str2)\n",
    "print(\"yu\" in str3)\n"
   ]
  },
  {
   "cell_type": "code",
   "execution_count": 4,
   "metadata": {},
   "outputs": [
    {
     "name": "stdout",
     "output_type": "stream",
     "text": [
      "after assign +=num1 12\n",
      "after assign -=num2 -22\n",
      "after assign /=num3 0.0\n",
      "after assign %=num4 0\n",
      "after assign *=num1 0\n"
     ]
    }
   ],
   "source": [
    "num1=int (input(\"enter no 1\"))\n",
    "num2=int (input(\"enter no 2\"))\n",
    "num3=int (input(\"enter no 3\"))\n",
    "num4=int (input(\"enter no 4\"))\n",
    "#assignment operators \n",
    "a=0\n",
    "b=0 \n",
    "c=0\n",
    "d=30\n",
    "e=44\n",
    "a+=num1\n",
    "print( \"after assign +=num1\",a)\n",
    "b-=num2\n",
    "print( \"after assign -=num2\",b)\n",
    "c/=num3\n",
    "print( \"after assign /=num3\",c)\n",
    "d%=num4\n",
    "print( \"after assign %=num4\",d)\n",
    "e*=num1\n",
    "print( \"after assign *=num1\",e)"
   ]
  },
  {
   "cell_type": "code",
   "execution_count": 5,
   "metadata": {},
   "outputs": [
    {
     "name": "stdout",
     "output_type": "stream",
     "text": [
      "a and b logical gives 90\n",
      "a and b bitwise operation  0\n"
     ]
    }
   ],
   "source": [
    "a=32\n",
    "b=90\n",
    "print(\"a and b logical gives\",a and b)\n",
    "print ( \"a and b bitwise operation \", a&b)"
   ]
  },
  {
   "cell_type": "code",
   "execution_count": 13,
   "metadata": {},
   "outputs": [
    {
     "name": "stdout",
     "output_type": "stream",
     "text": [
      "curve surface area of cone is:  666.6272505681117\n",
      "volume is: 1959.36\n"
     ]
    }
   ],
   "source": [
    "r= float(input(\"enter the radius \"))\n",
    "h= float (input (\"enter height \"))\n",
    "sh=(r**2 + h**2)**0.5\n",
    "p=3.14\n",
    "csa=p*r*sh\n",
    "print (\"curve surface area of cone is: \",csa)\n",
    "v=(1/3)*p*r**2*h\n",
    "print(\"volume is:\",v)\n",
    "\n",
    "\n",
    "\n"
   ]
  }
 ],
 "metadata": {
  "kernelspec": {
   "display_name": "Python 3",
   "language": "python",
   "name": "python3"
  },
  "language_info": {
   "codemirror_mode": {
    "name": "ipython",
    "version": 3
   },
   "file_extension": ".py",
   "mimetype": "text/x-python",
   "name": "python",
   "nbconvert_exporter": "python",
   "pygments_lexer": "ipython3",
   "version": "3.10.5"
  }
 },
 "nbformat": 4,
 "nbformat_minor": 2
}
