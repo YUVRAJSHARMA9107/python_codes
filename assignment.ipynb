{
 "cells": [
  {
   "cell_type": "markdown",
   "metadata": {},
   "source": [
    "Q.1 Case Study Description:\n",
    "You are assigned to develop a simple Employee Salary Management System for a company. The system needs to calculate the final salary of an employee based on their basic salary, allowances, and deductions.\n",
    "The company has the following rules:\n",
    "1.\tBasic Salary Calculation:\n",
    "The basic salary of an employee is given. From this, the system will calculate the total salary.\n",
    "2.\tAllowances:\n",
    "o\tHouse Rent Allowance (HRA): 10% of the basic salary\n",
    "o\tMedical Allowance (MA): 5% of the basic salary\n",
    "o\tTransport Allowance (TA): 3% of the basic salary\n",
    "3.\tDeductions:\n",
    "o\tTax Deduction: 12% of the basic salary\n",
    "o\tProvident Fund (PF) Deduction: 5% of the basic salary\n",
    "4.\tFinal Salary Calculation:\n",
    "The final salary will be calculated as:\n",
    "Final Salary=Basic Salary+Total Allowances−Total Deductions\n",
    "The system needs to check whether the final salary is above $5000 or not. If it is, the employee gets a bonus of $200. Otherwise, they don’t get a bonus.\n",
    "Questions Based on the Case Study:\n",
    "1.\tWrite a Python program that takes the basic salary as input and calculates the total allowances and deductions for the employee. The program should also print the allowances (HRA, MA, TA) and deductions (Tax and PF).\n"
   ]
  },
  {
   "cell_type": "code",
   "execution_count": null,
   "metadata": {},
   "outputs": [
    {
     "name": "stdout",
     "output_type": "stream",
     "text": [
      "The total money credited to your Account is $ 3090.0\n",
      "Spend your money wisely\n"
     ]
    }
   ],
   "source": [
    "#question 1.1\n",
    "#basic salary input \n",
    "basic_salary=int (input(\"enter salary in dollars\"))\n",
    "hra=0.1*basic_salary\n",
    "ma=0.05*basic_salary\n",
    "ta=0.05*basic_salary\n",
    "total_allowance=hra+ma+ta\n",
    "tax=0.12*basic_salary\n",
    "pf=0.05*basic_salary\n",
    "deduct=tax+pf\n",
    "final_salary= basic_salary+total_allowance-deduct\n",
    "print(\"The total money credited to your Account is $\",final_salary)\n",
    "print(\"Spend your money wisely\")\n"
   ]
  },
  {
   "cell_type": "markdown",
   "metadata": {},
   "source": [
    "2.\tModify the program from Question 1 to calculate the final salary (including allowances and deductions). Check if the final salary exceeds $5000. If it does, print the final salary along with the bonus of $200. If it doesn’t, print the final salary without the bonus."
   ]
  },
  {
   "cell_type": "code",
   "execution_count": null,
   "metadata": {},
   "outputs": [
    {
     "name": "stdout",
     "output_type": "stream",
     "text": [
      "Yay !! you got a bonus. Now your final salary is $  1030200.0\n",
      "Spend your money wisely\n"
     ]
    }
   ],
   "source": [
    "#question 1.2 \n",
    "#basic salary input \n",
    "basic_salary=int (input(\"enter salary in dollars\"))\n",
    "hra=0.1*basic_salary\n",
    "ma=0.05*basic_salary\n",
    "ta=0.05*basic_salary\n",
    "total_allowance=hra+ma+ta\n",
    "tax=0.12*basic_salary\n",
    "pf=0.05*basic_salary\n",
    "deduct=tax+pf\n",
    "final_salary= basic_salary+total_allowance-deduct\n",
    "if(final_salary>5000):\n",
    "    print(\"Yay !! you got a bonus. Now your final salary is $ \",final_salary+200)\n",
    "else:\n",
    "    print(\"Your total salary after taxes is $\",final_salary)\n",
    "\n",
    "print(\"Spend your money wisely\")"
   ]
  },
  {
   "cell_type": "markdown",
   "metadata": {},
   "source": [
    "3.\tWrite a Python program that accepts the basic salary and determines if the employee is eligible for a raise. The company offers a raise under the following conditions:\n",
    "o\tIf the basic salary is less than $4000, the raise is 15% of the basic salary.\n",
    "o\tIf the basic salary is between $4000 and $7000, the raise is 10%.\n",
    "o\tIf the basic salary is above $7000, the raise is 5%.\n",
    "The program should print the new salary after applying the raise.\n"
   ]
  },
  {
   "cell_type": "code",
   "execution_count": 19,
   "metadata": {},
   "outputs": [
    {
     "name": "stdout",
     "output_type": "stream",
     "text": [
      "raise by 10 %\n"
     ]
    }
   ],
   "source": [
    "#question 1.3\n",
    "basic_salary=int(input(\"Enter Salary in Dollars: \"))\n",
    "#eligible for raise or not\n",
    "if (basic_salary<4000):\n",
    "    print(\"raise by 15 %\")\n",
    "elif(basic_salary>4000 and basic_salary<=7000):\n",
    "    print (\"raise by 10 %\")\n",
    "else:\n",
    "    print(\"raise by 5 % \")\n"
   ]
  },
  {
   "cell_type": "markdown",
   "metadata": {},
   "source": [
    "4.\tWrite a Python program to calculate the net salary (Final Salary + Bonus, if eligible) for N employees. The program should take input for the number of employees and calculate and display the final salary for each employee, along with the bonus (if applicable)."
   ]
  },
  {
   "cell_type": "code",
   "execution_count": 20,
   "metadata": {},
   "outputs": [
    {
     "name": "stdout",
     "output_type": "stream",
     "text": [
      "Name of employee - t2 \n",
      "New Salary - 2000.0\n",
      "Name of employee - yuvi \n",
      "New Salary - 300200.0\n",
      "Name of employee - yadu \n",
      "New Salary - 20200.0\n",
      "Name of employee - prityush \n",
      "New Salary - 2000.0\n"
     ]
    }
   ],
   "source": [
    "#question 1.4\n",
    "n=int(input(\"Enter number of emplyees - \"))\n",
    "\n",
    "for i in range(0,n):\n",
    "    nm=input(\"Enter name of employee -\")\n",
    "    bs=float(input(\"Enter salary -\"))\n",
    "    if bs >5000:\n",
    "        bs=bs+200\n",
    "\n",
    "    for i in range(0,1):\n",
    "        print(\"Name of employee -\", nm, \"\\nNew Salary -\", bs)\n"
   ]
  },
  {
   "cell_type": "markdown",
   "metadata": {},
   "source": [
    "Q.2 Explain the difference between the if, elif, and else statements in Python. Provide an example to illustrate their usage."
   ]
  },
  {
   "cell_type": "code",
   "execution_count": 23,
   "metadata": {},
   "outputs": [
    {
     "name": "stdout",
     "output_type": "stream",
     "text": [
      "senior citizen\n"
     ]
    }
   ],
   "source": [
    "\n",
    "#question 2\n",
    "# if statement checks a condition and executes its code block if the condition is True.\n",
    "# elif statement checks another condition if the previous ones are False\n",
    "# else statement executes its code block if all preceding conditions are False.\n",
    "#IIlustrations:\n",
    "\n",
    "\n",
    "age= int(input(\"Enter the age\"))\n",
    "if (age <18):\n",
    "    print(\"child\")\n",
    "elif(age<=65):\n",
    "    print(\"Adult\")\n",
    "else:\n",
    "    print(\"senior citizen\")\n",
    "\n"
   ]
  },
  {
   "cell_type": "markdown",
   "metadata": {},
   "source": [
    "Q.3 Write a Python program to find the factorial of a number using a while loop. The program should prompt the user for the number."
   ]
  },
  {
   "cell_type": "code",
   "execution_count": null,
   "metadata": {},
   "outputs": [
    {
     "name": "stdout",
     "output_type": "stream",
     "text": [
      "Factorial 120\n"
     ]
    }
   ],
   "source": [
    "#question 3\n",
    "n= int (input(\"Enter the number whose factorial you want \"))\n",
    "factorial=1\n",
    "i=1\n",
    "while (i<=n):\n",
    "    factorial=factorial*i\n",
    "    i=i+1;\n",
    "print(\"Factorial\" , factorial)"
   ]
  },
  {
   "cell_type": "markdown",
   "metadata": {},
   "source": [
    "Q.4 Write a Python code that prints all numbers from 1 to 100 that are divisible by both 3 and 5"
   ]
  },
  {
   "cell_type": "code",
   "execution_count": null,
   "metadata": {},
   "outputs": [],
   "source": [
    "#question 4\n",
    "\n",
    "for i in range(1,100):\n",
    "    if i%3==0 and i%5==0:\n",
    "        print(i)"
   ]
  },
  {
   "cell_type": "markdown",
   "metadata": {},
   "source": [
    "Write a Python program that takes a positive integer as input and prints whether it is a prime number or not. Use a while loop for this task.\n",
    "\n"
   ]
  },
  {
   "cell_type": "code",
   "execution_count": null,
   "metadata": {},
   "outputs": [
    {
     "name": "stdout",
     "output_type": "stream",
     "text": [
      "Prime\n"
     ]
    }
   ],
   "source": [
    "#question 5\n",
    "n = int(input(\"Enter the number to check prime or not: \"))\n",
    "\n",
    "if n <= 1:\n",
    "    print(\"Not prime\")\n",
    "else:\n",
    "    i = 2  \n",
    "    p = 1  # Assume n is prime\n",
    "\n",
    "    while i < n:\n",
    "        if n % i == 0:\n",
    "            p = 0  \n",
    "            break  \n",
    "        i = i + 1  \n",
    "\n",
    "    if p == 1:\n",
    "        print(\"Prime\")\n",
    "    else:\n",
    "        print(\"Not prime\")\n",
    "\n"
   ]
  }
 ],
 "metadata": {
  "kernelspec": {
   "display_name": "Python 3",
   "language": "python",
   "name": "python3"
  },
  "language_info": {
   "codemirror_mode": {
    "name": "ipython",
    "version": 3
   },
   "file_extension": ".py",
   "mimetype": "text/x-python",
   "name": "python",
   "nbconvert_exporter": "python",
   "pygments_lexer": "ipython3",
   "version": "3.13.2"
  }
 },
 "nbformat": 4,
 "nbformat_minor": 2
}
